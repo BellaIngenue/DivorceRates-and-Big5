{
 "cells": [
  {
   "cell_type": "markdown",
   "id": "88eade9b-6ac9-409f-9741-8b15f17c6931",
   "metadata": {},
   "source": [
    "# Personal Project: Big 5 and Divorce Rates in the USA"
   ]
  },
  {
   "cell_type": "markdown",
   "id": "a0c0b69d-28ad-487b-b4d4-045d8dc72161",
   "metadata": {},
   "source": [
    "## Overview\n",
    "Throughout the past decade, Big 5 has been notorious for personality assessments and self-discovery. We wanted to look further into this topic, and the connection between Divorce Rates and the Big 5. Big 5 is hypothesized to have traits that are more correlated with higher/lower Divorce rates. That is what we will look further into. Although Big 5 is misinformed to be known as pseudosciences, these forms of self-acknowledgement are great for human growth and development.\n"
   ]
  },
  {
   "cell_type": "markdown",
   "id": "98fc35b7-5293-43d9-8288-49b23c59e842",
   "metadata": {},
   "source": [
    "## Research Question\n",
    "When it comes to Big 5 and Divorce Rates in the USA, is there any possible connection between Big 5 traits (such as Neuroticism, Openness, etc) and the tendency or possibility of Divorce?\n",
    "Focusing more specifically on Neuroticism, Extraversion/Introversion, and Openness in a person in a couple/relationship. The other two: Agreeableness and Conscientiousness can go either way in regards to marital success."
   ]
  },
  {
   "cell_type": "markdown",
   "id": "17b21cad-ba5d-49e7-be30-ab0a2a23ea5d",
   "metadata": {},
   "source": [
    "## Background and Prior Work\n",
    "**Big 5 and OCEAN**\n",
    "\n",
    "Big 5, a well known and well established form of personality assessments, has 5 major traits that look into the overall identity of the person taking the assessment. The five traits are as follows: Neuroticism, Openness to Experience, Agreeableness, Extraversion, and Conscientiousness. The 5 traits get scored in either: Below Average, Average, or Above Average in scale. Depending on one's personality, they may score higher or lower in different regions. Alongside Big 5 is several other terminology.\n",
    "\n",
    "This includes but is not limited to: OCEAN/CANOE and Global 5-SLOAN. The prior being a way to remember the overall format, and the latter being a more modern way of calculating and scoring the data provided. SLOAN formats the 5 original names into 10 other names: Social/Reserved, Limbic/Calm, Organized/Unstructured, Accommodating/Egocentric, and Non-Curious/Inquisitive. SLOAN is helpful in better subjecting the many personalities into 32 possible types<sup>[1](#SimilarTypesSLOAN)</sup>.\n",
    "\n",
    "There have been studies that looked into the connection, causation and correlation between several of the Big 5 traits and marriage satisfaction between a couple. One study that looked into this relationship was done by Sayehmiri et al. They looked into the connection and their main conclusion was that couples high in Neuroticism experience lower levels of marital satisfaction, and couples high in Conscientiousness are more satisfied with their marital life<sup>[2](#Sayehmiri)</sup>\n",
    "\n",
    "**IPIP and NEO**\n",
    "\n",
    "The current and most valid measurement to decipher one's Big 5 measurements would be the IPIP-300 which is the unofficial public domain copy of the NEO PI-R that many researchers use. Several studies have looked into the connection between IPIP and NEO and found that they are interchangeable copies of one another.\n",
    "\n",
    "**Divorce Rates in the USA (2000-2022)**\n",
    "\n",
    "\n",
    "[<sup id=\"SimilarTypesSLOAN\">1</sup>](#SimilarTypesSLOAN-back) [Similar Types SLOAN Website](https://similarminds.com/sloan.html)<br>\n",
    "[<sup id=\"Sayehmiri\">2</sup>](#Sayehmiri-back) [The realtionship between personlality traits and marital satisfaction](https://bmcpsychology.biomedcentral.com/articles/10.1186/s40359-020-0383-z)<br>\n"
   ]
  },
  {
   "cell_type": "markdown",
   "id": "bf9e7669-6820-443c-a2fc-37782d2f83ad",
   "metadata": {},
   "source": [
    "## Hypothesis\n",
    "\n",
    "*Our hypothesis is that Relationship Divorce/Marital Rates and Typology have some slight connection or correlation with one another. Specifically, Big 5's OCEAN Model measured by the IPIP300. We hypothesize that there will be the highest correlation between Divorce rates and higher Neuroticism counts, Extraversion counts and lower Openness counts*\n",
    "*"
   ]
  },
  {
   "cell_type": "code",
   "execution_count": null,
   "id": "28123e3e-6c95-4108-b642-f45e4185a97c",
   "metadata": {},
   "outputs": [],
   "source": []
  }
 ],
 "metadata": {
  "kernelspec": {
   "display_name": "Python 3 (ipykernel)",
   "language": "python",
   "name": "python3"
  },
  "language_info": {
   "codemirror_mode": {
    "name": "ipython",
    "version": 3
   },
   "file_extension": ".py",
   "mimetype": "text/x-python",
   "name": "python",
   "nbconvert_exporter": "python",
   "pygments_lexer": "ipython3",
   "version": "3.10.6"
  }
 },
 "nbformat": 4,
 "nbformat_minor": 5
}

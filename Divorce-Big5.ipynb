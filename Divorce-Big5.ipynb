{
 "cells": [
  {
   "cell_type": "markdown",
   "id": "88eade9b-6ac9-409f-9741-8b15f17c6931",
   "metadata": {},
   "source": [
    "# Personal Project: Big 5 and Divorce Rates"
   ]
  },
  {
   "cell_type": "markdown",
   "id": "a0c0b69d-28ad-487b-b4d4-045d8dc72161",
   "metadata": {},
   "source": [
    "## Overview\n",
    "Throughout the past decade, Big 5 has been notorious for personality assessments and self-discovery. We wanted to look further into this topic, and the connection between Divorce Rates and the Big 5. Big 5 is hypothesized to have traits that are more correlated with higher/lower Divorce rates. That is what we will look further into. Although Big 5 is misinformed to be known as a pseudoscience, this form of self-acknowledgement are great for human growth and development.\n"
   ]
  },
  {
   "cell_type": "markdown",
   "id": "98fc35b7-5293-43d9-8288-49b23c59e842",
   "metadata": {},
   "source": [
    "## Research Question\n",
    "When it comes to Big 5 and Divorce Rates, is there any possible connection between Big 5 traits (such as Neuroticism, Openness, etc) and the tendency or possibility of Divorce?\n",
    "Focusing more specifically on Neuroticism, Extraversion/Introversion, and Openness in a person in a couple/relationship. The other two: Agreeableness and Conscientiousness can go either way in regards to marital success."
   ]
  },
  {
   "cell_type": "markdown",
   "id": "17b21cad-ba5d-49e7-be30-ab0a2a23ea5d",
   "metadata": {},
   "source": [
    "## Background and Prior Work\n",
    "**Big 5 and OCEAN**\n",
    "\n",
    "Big 5, a well known and well established form of personality assessments, has 5 major traits that look into the overall identity of the person taking the assessment. The five traits are as follows: Neuroticism, Openness to Experience, Agreeableness, Extraversion, and Conscientiousness. The 5 traits get scored in either: Below Average, Average, or Above Average in scale. Depending on one's personality, they may score higher or lower in different regions. Alongside Big 5 is several other terminology.\n",
    "\n",
    "This includes but is not limited to: OCEAN/CANOE and Global 5-SLOAN. The prior being a way to remember the overall format, and the latter being a more modern way of calculating and scoring the data provided. SLOAN formats the 5 original names into 10 other names: Social/Reserved, Limbic/Calm, Organized/Unstructured, Accommodating/Egocentric, and Non-Curious/Inquisitive. SLOAN is helpful in better subjecting the many personalities into 32 possible types<sup>[1](#SimilarTypesSLOAN)</sup>.\n",
    "\n",
    "\n",
    "**IPIP and NEO**\n",
    "\n",
    "The current and most valid measurement to decipher one's Big 5 measurements would be the IPIP-300 (International Personality Item Pool) which is the unofficial public domain copy of the NEO PI-R that many researchers use. Several studies have looked into the connection between IPIP and NEO and found that they are interchangeable copies of one another. \n",
    "\n",
    "The original assessment had about 300 questions with a shorter and abbreviated version form being about 120 questions with the overall test calculating the high or low value in regards to the calculated spectrum of the 5 traits. The results then show the 5 base values and the 25 overall scores (5 scores for 5 categories). These scores are calculated based off a 5 point Likert Scale of 1-5 (ranging from Strongly Disagree to Strongly Agree). \n",
    "\n",
    "**Divorce Rates in the USA (2000-2022)**\n",
    "\n",
    "There have been studies that looked into the connection, causation and correlation between several of the Big 5 traits and marriage satisfaction between a couple. One study that looked into this relationship was done by Sayehmiri et al. They looked into the connection and their main conclusion was that couples high in Neuroticism experience lower levels of marital satisfaction, and couples high in Conscientiousness are more satisfied with their marital life<sup>[2](#Sayehmiri)</sup>\n",
    "\n",
    "However, a study done in 2008 by Holland & Roisman suggests otherwise. They indicated that although previous literature has looked into personaltiy traits and self-reported relationship quality, they did not find the same conclusion with their research. They did, however, find a positive relationship between conscientiousness and self-reported relationship quality<sup>[3](#Holland)</sup>\n",
    "\n",
    "\n",
    "[<sup id=\"SimilarTypesSLOAN\">1</sup>](#SimilarTypesSLOAN-back) [Similar Types SLOAN Website](https://similarminds.com/sloan.html)<br>\n",
    "[<sup id=\"Sayehmiri\">2</sup>](#Sayehmiri-back) [The relationship between personality traits and marital satisfaction](https://bmcpsychology.biomedcentral.com/articles/10.1186/s40359-020-0383-z)<br>\n",
    "[<sup id=\"Holland\">3</sup>](#Holland-back) [Big Five personality traits and relationship quality: Self-reported, observational, and physiological evidence](https://journals.sagepub.com/doi/10.1177/0265407508096697)<br>\n"
   ]
  },
  {
   "cell_type": "markdown",
   "id": "bf9e7669-6820-443c-a2fc-37782d2f83ad",
   "metadata": {},
   "source": [
    "## Hypothesis\n",
    "\n",
    "*Our hypothesis is that Relationship Divorce/Marital Rates and Typology have some slight connection or correlation with one another. Specifically, Big 5's OCEAN Model measured by the IPIP300. We hypothesize that there will be the highest correlation between Divorce rates and higher Neuroticism counts, lower Extraversion counts and lower Openness counts*\n"
   ]
  },
  {
   "cell_type": "markdown",
   "id": "4d304f29-279a-4273-89f8-a55191ce4d7a",
   "metadata": {},
   "source": [
    "## Dataset(s) Used\n",
    "\n",
    "**Main Datasets**\n",
    "\n",
    "1. **Personality Prediction System**\n",
    " - **Name:** test.csv\n",
    " - **Shape/Size of the Dataset:** Shape: , Size:\n",
    " - [Link to the Dataset](https://www.kaggle.com/datasets/pavlorymarchuk/test3434?rvi=1ta)\n",
    " - **Description:** Dataset based on the Big Five Personality Test.\n",
    "\n",
    "2. **Big-5-OCEAN-model-for-personality-detection**\n",
    " - **Name:**  Big-5-OCEAN-model.csv\n",
    " - **Shape/Size of the Dataset:** Shape: , Size:\n",
    " - [Link to the Dataset](https://www.kaggle.com/datasets/eddiebrock/big5oceanmodelforpersonalitydetection?rvi=1k/mbti-type)\n",
    " - **Description:**\n",
    "   \n",
    "3. **Big 5 Data**\n",
    " - **Name:**  big-5-scores.csv\n",
    " - **Shape/Size of the Dataset:** Shape: , Size:\n",
    " - [Link to the Dataset](https://github.com/automoto/big-five-data)\n",
    " - **Description:**\n",
    "   \n",
    "4. **Marriage and Divorce Dataset**\n",
    " - **Name:** Marriage_Divorce_DB.csv\n",
    " - **Shape/Size of the Dataset:** Shape: , Size:\n",
    " - [Link to the Dataset](https://www.kaggle.com/datasets/hosseinmousavi/marriage-and-divorce-dataset?select=Marriage_Divorce_DB.csv)\n",
    " - **Description:**"
   ]
  },
  {
   "cell_type": "markdown",
   "id": "ccda75ae-2c2f-4e2c-ac32-91d7f3bcbc54",
   "metadata": {},
   "source": [
    "# Setup:"
   ]
  },
  {
   "cell_type": "code",
   "execution_count": 3,
   "id": "3b3e97b3-ae5f-4029-b2bb-79d8f36f438a",
   "metadata": {},
   "outputs": [],
   "source": [
    "# First make sure to have all packages installed on device (pip install pandas, numpy, seaborn, matplotlib, and etc)\n",
    "# import all packages after installing pip\n",
    "import pandas as pd\n",
    "import numpy as np\n",
    "import seaborn as sns\n",
    "import os\n",
    "sns.set(font_scale=2, style=\"white\")\n",
    "import matplotlib as mpl\n",
    "import matplotlib.pyplot as plt\n",
    "import matplotlib.style as style\n",
    "import geopandas as gpd\n",
    "import pyproj as pyproj\n",
    "import pycountry\n",
    "import scipy.stats as stats\n",
    "from scipy.stats import normaltest, ttest_ind\n",
    "import patsy\n",
    "import statsmodels.api as sm\n",
    "import functools\n",
    "# Our Warnings when importing code will make it harder to concentrate on what is important\n",
    "import warnings\n",
    "warnings.filterwarnings('ignore')"
   ]
  },
  {
   "cell_type": "markdown",
   "id": "96a15f01-c8a5-4e79-ba03-2c7c4a8530db",
   "metadata": {},
   "source": [
    "# Data Cleaning\n",
    "\n",
    "## Table of Contents\n",
    "- Countries and Maps\n",
    "- Big 5 OCEAN Databases\n",
    "- Marital Satisfaction and Divorce Relations Databases\n",
    "\n",
    "**Combining Data**: The datasets we have chosen will be combined and subsequently analyzed to give a measure of the overall relationship between Marital Satisfaction and Big 5 traits/subsets. "
   ]
  },
  {
   "cell_type": "markdown",
   "id": "e2495574-4542-4017-b3be-2ab67dfc84a0",
   "metadata": {},
   "source": [
    "## Big 5 OCEAN Personality Databases"
   ]
  },
  {
   "cell_type": "code",
   "execution_count": 10,
   "id": "72919674-8e94-4ac0-8edf-726f63309a6c",
   "metadata": {},
   "outputs": [
    {
     "ename": "SyntaxError",
     "evalue": "(unicode error) 'unicodeescape' codec can't decode bytes in position 2-3: truncated \\UXXXXXXXX escape (1688678879.py, line 2)",
     "output_type": "error",
     "traceback": [
      "\u001b[1;36m  Cell \u001b[1;32mIn[10], line 2\u001b[1;36m\u001b[0m\n\u001b[1;33m    df = pd.read_csv('C:\\Users\\siena\\OneDrive\\Documents\\GitHub\\DivorceRates-and-Big5\\datasets\\BIG5-Typology\\big_five_scores.csv')\u001b[0m\n\u001b[1;37m                                                                                                                                ^\u001b[0m\n\u001b[1;31mSyntaxError\u001b[0m\u001b[1;31m:\u001b[0m (unicode error) 'unicodeescape' codec can't decode bytes in position 2-3: truncated \\UXXXXXXXX escape\n"
     ]
    }
   ],
   "source": [
    "big_5_data = ['OneDrive/Documents/GitHub/DivorceRates-and-Big5/datasets/BIG5-Typology/big_five_scores.csv']\n",
    "df = pd.read_csv('C:\\Users\\siena\\OneDrive\\Documents\\GitHub\\DivorceRates-and-Big5\\datasets\\BIG5-Typology\\big_five_scores.csv')\n",
    "df.head(4)"
   ]
  },
  {
   "cell_type": "code",
   "execution_count": null,
   "id": "4069144b-7b11-41da-bcf0-e35c27d3e579",
   "metadata": {},
   "outputs": [],
   "source": []
  }
 ],
 "metadata": {
  "kernelspec": {
   "display_name": "Python 3 (ipykernel)",
   "language": "python",
   "name": "python3"
  },
  "language_info": {
   "codemirror_mode": {
    "name": "ipython",
    "version": 3
   },
   "file_extension": ".py",
   "mimetype": "text/x-python",
   "name": "python",
   "nbconvert_exporter": "python",
   "pygments_lexer": "ipython3",
   "version": "3.10.6"
  }
 },
 "nbformat": 4,
 "nbformat_minor": 5
}
